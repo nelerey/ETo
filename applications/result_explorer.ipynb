{
 "cells": [
  {
   "cell_type": "code",
   "execution_count": 11,
   "metadata": {},
   "outputs": [],
   "source": [
    "import xarray as xr\n",
    "import matplotlib.pyplot as plt\n",
    "import numpy as np\n",
    "import cftime"
   ]
  },
  {
   "cell_type": "markdown",
   "metadata": {},
   "source": [
    "# Looking at ETo result data"
   ]
  },
  {
   "cell_type": "code",
   "execution_count": 12,
   "metadata": {},
   "outputs": [],
   "source": [
    "# some definitions\n",
    "pr_datapath = \"/badc/ukcp18/data/land-rcm/uk/12km/rcp85/01/pr/day/latest/pr_rcp85_land-rcm_uk_12km_01_day_19801201-19901130.nc\"\n",
    "eto_fao_datapath32 = \"/home/users/nelerey/data/PE/ETo-fao56/evpot-fao56_rcp85_land-rcm_uk_12km_01_day_19801201-19901130.nc\""
   ]
  },
  {
   "cell_type": "code",
   "execution_count": 13,
   "metadata": {},
   "outputs": [],
   "source": [
    "ds_pr = xr.open_dataset(pr_datapath)\n",
    "ds_eto32 = xr.open_dataset(eto_fao_datapath32)"
   ]
  },
  {
   "cell_type": "code",
   "execution_count": 14,
   "metadata": {},
   "outputs": [
    {
     "data": {
      "text/plain": [
       "<xarray.Dataset>\n",
       "Dimensions:                  (bnds: 2, ensemble_member: 1, projection_x_coordinate: 82, projection_y_coordinate: 112, time: 3600)\n",
       "Coordinates:\n",
       "  * ensemble_member          (ensemble_member) int32 1\n",
       "  * time                     (time) object 1980-12-01 12:00:00 ... 1990-11-30 12:00:00\n",
       "  * projection_y_coordinate  (projection_y_coordinate) float64 -1.02e+05 ... 1.23e+06\n",
       "  * projection_x_coordinate  (projection_x_coordinate) float64 -2.1e+05 ... 7.62e+05\n",
       "    ensemble_member_id       (ensemble_member) |S27 ...\n",
       "    grid_latitude            (projection_y_coordinate, projection_x_coordinate) float64 ...\n",
       "    grid_longitude           (projection_y_coordinate, projection_x_coordinate) float64 ...\n",
       "    month_number             (time) int32 ...\n",
       "    year                     (time) int32 ...\n",
       "    yyyymmdd                 (time) |S64 ...\n",
       "Dimensions without coordinates: bnds\n",
       "Data variables:\n",
       "    evpot-fao56              (ensemble_member, time, projection_y_coordinate, projection_x_coordinate, bnds) float32 ..."
      ]
     },
     "execution_count": 14,
     "metadata": {},
     "output_type": "execute_result"
    }
   ],
   "source": [
    "ds_eto32"
   ]
  },
  {
   "cell_type": "markdown",
   "metadata": {},
   "source": [
    "Running python tool from notebook, yay efficiency?"
   ]
  },
  {
   "cell_type": "raw",
   "metadata": {},
   "source": [
    "! python3 /home/users/nelerey/phd_code/ETo/applications/apply_etofao-56_ukcp18_jasmin-ceda.py \\\n",
    "    -v hurs,psl,rls,rss,sfcWind,tasmax,tasmin,tas \\\n",
    "    -i /badc/ukcp18/data/land-rcm/uk/12km/rcp85/01/{var}/day/latest/{var}_rcp85_land-rcm_uk_12km_01_day_19801201-19901130.nc \\\n",
    "    -o /home/users/nelerey/data/PE/ETo-fao56/{}_rcp85_land-rcm_uk_12km_${SLURM_ARRAY_TASK_ID_sf}_day_19801201-19901130.nc \\\n",
    "    -n evpot_fao56"
   ]
  },
  {
   "cell_type": "markdown",
   "metadata": {},
   "source": [
    "# Fitting distributions\n",
    "First let's look at the histogram and then fit distributions"
   ]
  },
  {
   "cell_type": "code",
   "execution_count": 15,
   "metadata": {},
   "outputs": [],
   "source": [
    "ds_eto32_EA = ds_eto32['evpot-fao56'].sel(projection_x_coordinate= 606000,\n",
    "                                          projection_y_coordinate= 306000).sel(bnds=0)\n",
    "ds_eto32_NS = ds_eto32['evpot-fao56'].sel(projection_x_coordinate= 294000,\n",
    "                                          projection_y_coordinate= 942000).sel(bnds=0)"
   ]
  },
  {
   "cell_type": "code",
   "execution_count": 23,
   "metadata": {},
   "outputs": [
    {
     "data": {
      "text/plain": [
       "(array([  5,  23,  52, 151, 176, 190, 174, 176, 135, 170, 143, 135, 134,\n",
       "        127, 112, 103,  99, 102,  95, 106,  80,  95, 111,  96,  66,  70,\n",
       "         93,  63,  81,  64,  60,  53,  45,  37,  28,  41,  26,  19,  23,\n",
       "         11,   8,   6,   6,   5,   0,   0,   2,   0,   2,   1]),\n",
       " array([-0.31      , -0.1924    , -0.07479999,  0.04280001,  0.16040002,\n",
       "         0.27800003,  0.39560002,  0.51320004,  0.6308    ,  0.74840003,\n",
       "         0.86600006,  0.9836    ,  1.1012    ,  1.2188001 ,  1.3364    ,\n",
       "         1.454     ,  1.5716001 ,  1.6892    ,  1.8068    ,  1.9244001 ,\n",
       "         2.042     ,  2.1596    ,  2.2772    ,  2.3948002 ,  2.5124002 ,\n",
       "         2.63      ,  2.7476    ,  2.8652    ,  2.9828    ,  3.1004002 ,\n",
       "         3.2180002 ,  3.3356001 ,  3.4532    ,  3.5708    ,  3.6884    ,\n",
       "         3.8060002 ,  3.9236002 ,  4.0412    ,  4.1588    ,  4.2764    ,\n",
       "         4.394     ,  4.5116    ,  4.6292    ,  4.7468    ,  4.8644004 ,\n",
       "         4.9820004 ,  5.0996003 ,  5.2172003 ,  5.3348002 ,  5.4524    ,\n",
       "         5.57      ], dtype=float32))"
      ]
     },
     "execution_count": 23,
     "metadata": {},
     "output_type": "execute_result"
    }
   ],
   "source": [
    "EA_hist = np.histogram(ds_eto32_EA.values, bins=50)\n",
    "EA_hist"
   ]
  },
  {
   "cell_type": "code",
   "execution_count": 25,
   "metadata": {},
   "outputs": [
    {
     "data": {
      "text/plain": [
       "<BarContainer object of 50 artists>"
      ]
     },
     "execution_count": 25,
     "metadata": {},
     "output_type": "execute_result"
    },
    {
     "data": {
      "image/png": "[encoded data removed]",
      "text/plain": [
       "<Figure size 432x288 with 1 Axes>"
      ]
     },
     "metadata": {
      "needs_background": "light"
     },
     "output_type": "display_data"
    }
   ],
   "source": [
    "plt.bar((EA_hist[1][1:]+EA_hist[1][:-1])/2, EA_hist[0])"
   ]
  },
  {
   "cell_type": "markdown",
   "metadata": {},
   "source": [
    "## monthly"
   ]
  },
  {
   "cell_type": "code",
   "execution_count": 28,
   "metadata": {},
   "outputs": [],
   "source": [
    "monthly_EA = [l[1] for l in list(ds_eto32_EA.groupby('time.month'))]"
   ]
  },
  {
   "cell_type": "code",
   "execution_count": 36,
   "metadata": {},
   "outputs": [
    {
     "data": {
      "image/png": "[encoded data removed]",
      "text/plain": [
       "<Figure size 864x648 with 12 Axes>"
      ]
     },
     "metadata": {
      "needs_background": "light"
     },
     "output_type": "display_data"
    }
   ],
   "source": [
    "f,axes = plt.subplots(4,3,figsize=(12,9), sharex=True, sharey=True)\n",
    "faxes = axes.flatten()\n",
    "for i, ds in enumerate(monthly_EA):\n",
    "    month_i_hist = np.histogram(ds.values, bins=100)\n",
    "    faxes[i].bar((month_i_hist[1][1:]+month_i_hist[1][:-1])/2, month_i_hist[0])"
   ]
  },
  {
   "cell_type": "markdown",
   "metadata": {},
   "source": [
    "From the figure above:\n",
    "- what are t"
   ]
  },
  {
   "cell_type": "code",
   "execution_count": null,
   "metadata": {},
   "outputs": [],
   "source": []
  }
 ],
 "metadata": {
  "kernelspec": {
   "display_name": "Python 3 + Jaspy",
   "language": "python",
   "name": "jaspy"
  },
  "language_info": {
   "codemirror_mode": {
    "name": "ipython",
    "version": 3
   },
   "file_extension": ".py",
   "mimetype": "text/x-python",
   "name": "python",
   "nbconvert_exporter": "python",
   "pygments_lexer": "ipython3",
   "version": "3.7.1"
  }
 },
 "nbformat": 4,
 "nbformat_minor": 4
}
