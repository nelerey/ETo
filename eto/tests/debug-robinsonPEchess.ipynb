{
 "cells": [
  {
   "cell_type": "code",
   "execution_count": 73,
   "metadata": {},
   "outputs": [
    {
     "name": "stdout",
     "output_type": "stream",
     "text": [
      "entered python succesfully.\n"
     ]
    }
   ],
   "source": [
    "\"\"\"\n",
    "calculates potential evaporation from UKCP18 variables based on the method by robinson 2017.\n",
    "\"\"\"\n",
    "print(\"entered python succesfully.\")\n",
    "import xarray as xr\n",
    "import numpy as np\n",
    "import argparse\n",
    "import sys\n",
    "from datetime import datetime\n",
    "import matplotlib.pyplot as plt"
   ]
  },
  {
   "cell_type": "code",
   "execution_count": 67,
   "metadata": {},
   "outputs": [],
   "source": [
    "class constants:\n",
    "\n",
    "    def __init__(self):\n",
    "        self.t_steam = 373.15  # steam point temperature in kelvin\n",
    "        self.p_steam = 101325.  # steam point pressure in Pa\n",
    "        self.a_factors = np.array([13.3185, -1.9760, -0.6445, -0.1299])\n",
    "        self.epsilon = 0.622  # robinson 2017 eq 3; gill 1982\n",
    "        self.l = 2.5e6  # J kg-1; latent heat of evaporation of water\n",
    "        self.c_p = 1010.  # J kg-1 K-1  # specific heat capacity of air\n",
    "        self.psychrometric = 0.0004  # K-1; psychrometric constant\n",
    "        # everything is FAO56-grass:\n",
    "        self.r_s = 70.0  # s m-1  stomatal resistance\n",
    "        self.alpha = 0.23\n",
    "        self.emissivity = 0.92\n",
    "        self.r = 287.05  # J kg-1 K-1, gas consstant of air\n",
    "        self.t_d = 60*60*24  # seconds day-1: lengthof a day in seconds\n",
    "\n",
    "\n",
    "def faster_polyval(p, x):\n",
    "    \"\"\"\n",
    "    thank you stackoverflow user Joe Kingston: https://stackoverflow.com/questions/32526388/a-faster-numpy-polynomial\n",
    "    p=coefficients\n",
    "    x=array to evalate polynomial\n",
    "    \"\"\"\n",
    "    y = np.zeros(x.shape, dtype=float)\n",
    "    for i, v in enumerate(p[::-1]):\n",
    "        y *= x\n",
    "        y += v\n",
    "    return y \n",
    "\n",
    "\n",
    "def richards_poly(t_a, derive=False):\n",
    "    \"\"\"\n",
    "    Computes the polynomial that forms the exponent in eq 5 Robinson et al 2017 (richards approximation of q_s=f(t_a), 1971). if derive=True, it will compute the first derivative of this term to t_a instead\n",
    "    deze functie geeft het gewenste resultaat. \n",
    "\n",
    "    Parameters\n",
    "    ----------\n",
    "    t_a: np.ndarray of air temperature values in Kelvin\n",
    "\n",
    "    Return\n",
    "    ------\n",
    "    a numpy.ndarray same shape as t_a which is the exponent for eq5\n",
    "    \"\"\"\n",
    "\n",
    "    tterm = (1. - cst.t_steam/t_a)\n",
    "    \n",
    "    if derive:\n",
    "        print(\"calculating richards poly derivative\")\n",
    "        coefficients = cst.a_factors * np.arange(1,5)\n",
    "        res = faster_polyval(coefficients, tterm) \n",
    "        return res * cst.t_steam / (t_a ** 2)\n",
    "    else:\n",
    "        print(\"calculating richards poly\")\n",
    "        coefficients = np.array([0, *cst.a_factors])\n",
    "        res = faster_polyval(coefficients, tterm) \n",
    "        return res\n",
    "\n",
    "\n",
    "def calc_sat_spechum(es, p_air):\n",
    "    \"\"\"\n",
    "    eq 3 in robinson et al 2017\n",
    "    \"\"\"\n",
    "    print(\"calculating saturated specific humidity\")\n",
    "    qs = (cst.epsilon * es) / (p_air - (1-cst.epsilon)*es)\n",
    "    return qs\n",
    "\n",
    "\n",
    "def calc_delta_qs(e_s, t_a, q_s, p_air):\n",
    "    \"\"\"\n",
    "    eq6 robinson et al 2017\n",
    "    \"\"\"\n",
    "    print(\"calculating delta q_s\")\n",
    "    delta = (richards_poly(t_a, derive=True) * p_air * q_s) / (p_air - (1.-cst.epsilon) * e_s)\n",
    "    return delta\n",
    "\n",
    "\n",
    "# def calc_delta_es(t_a):\n",
    "#     \"\"\"\n",
    "#     Derive e_s with respect to t_air.\n",
    "\n",
    "#     Derivation of the implementation:\n",
    "#     d(e_s)/d(t_a) = d(p_steam * exp(richards-polynomial))/d(t_a)\n",
    "#                   = p_steam * exp(richards-polynomial) * d(richards-polynomial)/d(t_a)\n",
    "#     \"\"\"\n",
    "#     print(\"calculating delta_es\")\n",
    "#     return cst.p_steam * np.exp(richards_poly(t_a)) * richards_poly(t_a, derive=True)\n",
    "\n",
    "\n",
    "def calc_eto_ceh_xr(t_a, p_air, netlongwavedown, netshortwavedown, u_10, q_a, allow_neg=False):\n",
    "    \"\"\"\n",
    "    Function to estimate reference ET (ETo) roughly following the method used to produce CHESS-PE ([2]) using the reference crop defined in `FAO 56 paper <http://www.fao.org/docrep/X0490E/X0490E00.htm>`_ [1]_\n",
    "\n",
    "    I did not calculate the specific humidiy and instead used the vapour pressure deficit as in Monteith et al. 1965, as I don't know why they did not also do that. They refer to some other publication where q_s is used instead of e_s, but there it is also not explained why. This impacts the deficit term in the aerodynamic component and the delta term.\n",
    "\n",
    "    Parameters\n",
    "    ----------\n",
    "\n",
    "    Returns\n",
    "    -------\n",
    "\n",
    "    References\n",
    "    ----------\n",
    "\n",
    "    .. [1] Allen, R. G., Pereira, L. S., Raes, D., & Smith, M. (1998). Crop evapotranspiration-Guidelines for computing crop water requirements-FAO Irrigation and drainage paper 56. FAO, Rome, 300(9), D05109.\n",
    "\n",
    "    .. [2] Robinson, E. L., Blyth, E. M., Clark, D. B., Finch, J., & Rudd, A. C. (2017). Trends in atmospheric evaporative demand in Great Britain using high-resolution meteorological data. Hydrology and Earth System Sciences, 21(2), 1189-1224.\n",
    "    \"\"\"\n",
    "    print(\"Start calculating PE...\")\n",
    "\n",
    "    # calculate the derivative of saturated vapour pressure with respect to air temperature. this does not equate eq 6 in Robinson et al. 2017, see function description.\n",
    "    e_s = cst.p_steam * np.exp(richards_poly(t_a))\n",
    "    q_s = calc_sat_spechum(e_s, p_air)\n",
    "    delta_qs = calc_delta_qs(e_s, t_a, q_s, p_air)\n",
    "\n",
    "    # eq 7: calculate net radiation from the short- and longwave downwelling radiation, with surface temperature being approximated by air temperature and assuming G is zero\n",
    "    # R_n = SWnet + LWnet = Sd - cst.alpha*Sd + cst.emissivity * Ld - cst.emissivity * cst.stefboltz * T_a**4\n",
    "    \n",
    "    A = netshortwavedown + netlongwavedown  # = R_n - G, but G is assumed to be 0\n",
    "\n",
    "    # eq 9: air density\n",
    "    rho_air = p_air / (cst.r*t_a)\n",
    "\n",
    "    # eq 10\n",
    "    r_a = 278./u_10  # aerodynamic resistance for a reference crop with height 0.12 m\n",
    "    \n",
    "    # denominator for eq 11/12.\n",
    "    denominator = delta_qs + cst.psychrometric * (1 + (cst.r_s/r_a))\n",
    "    \n",
    "    # eq 11\n",
    "    radiative_component = (delta_qs * A) / denominator\n",
    "    # eq 12\n",
    "    aerodynamic_component =  (cst.c_p*rho_air/r_a) * (q_s - q_a) / denominator\n",
    "    \n",
    "    print(\"shapes and sizes of variables:\")\n",
    "    print(f\"e_s: {e_s.shape}\")\n",
    "    print(f\"q_s: {q_s.shape}\")\n",
    "    print(f\"delta_qs: {delta_qs.shape}\")\n",
    "    print(f\"A: {A.shape}\")\n",
    "    print(f\"rho_air: {rho_air.shape}\")\n",
    "    print(f\"r_a: {r_a.shape}\")\n",
    "    print(f\"denominator: {denominator.shape}\")\n",
    "    print(f\"radiative_component: {radiative_component.shape}\")\n",
    "    print(f\"aerodynamic_component: {aerodynamic_component.shape}\")\n",
    "\n",
    "    # calculate potential evaporation\n",
    "    pe = (radiative_component + aerodynamic_component) * cst.t_d / cst.l\n",
    "    return pe"
   ]
  },
  {
   "cell_type": "markdown",
   "metadata": {},
   "source": [
    "Main below"
   ]
  },
  {
   "cell_type": "code",
   "execution_count": 68,
   "metadata": {
    "scrolled": true
   },
   "outputs": [
    {
     "name": "stdout",
     "output_type": "stream",
     "text": [
      "Data loaded and units of psl and tas converted. \n",
      "datadict: \n",
      " {'huss': <xarray.DataArray 'huss' (ensemble_member: 1, time: 36000, projection_y_coordinate: 3, projection_x_coordinate: 3)>\n",
      "[324000 values with dtype=float32]\n",
      "Coordinates:\n",
      "  * ensemble_member          (ensemble_member) int32 1\n",
      "  * projection_y_coordinate  (projection_y_coordinate) float64 1.98e+05 ... 2.22e+05\n",
      "  * projection_x_coordinate  (projection_x_coordinate) float64 5.58e+05 ... 5.82e+05\n",
      "    ensemble_member_id       (ensemble_member) |S27 ...\n",
      "    grid_latitude            (projection_y_coordinate, projection_x_coordinate) float64 ...\n",
      "    grid_longitude           (projection_y_coordinate, projection_x_coordinate) float64 ...\n",
      "  * time                     (time) object 1980-12-01 12:00:00 ... 2080-11-30 12:00:00\n",
      "    month_number             (time) int32 ...\n",
      "    year                     (time) int32 ...\n",
      "    yyyymmdd                 (time) |S64 ...\n",
      "Attributes:\n",
      "    standard_name:  specific_humidity\n",
      "    long_name:      Specific humidity\n",
      "    units:          1\n",
      "    description:    Specific humidity\n",
      "    label_units:    1\n",
      "    plot_label:     Specific humidity at 1.5m (1)\n",
      "    cell_methods:   time: mean\n",
      "    grid_mapping:   transverse_mercator, 'psl': <xarray.DataArray 'psl' (ensemble_member: 1, time: 36000, projection_y_coordinate: 3, projection_x_coordinate: 3)>\n",
      "array([[[[ 99466.52 , ...,  99422.445],\n",
      "         ...,\n",
      "         [ 99450.89 , ...,  99406.33 ]],\n",
      "\n",
      "        ...,\n",
      "\n",
      "        [[102520.22 , ..., 102525.35 ],\n",
      "         ...,\n",
      "         [102477.86 , ..., 102486.305]]]], dtype=float32)\n",
      "Coordinates:\n",
      "  * ensemble_member          (ensemble_member) int32 1\n",
      "  * projection_y_coordinate  (projection_y_coordinate) float64 1.98e+05 ... 2.22e+05\n",
      "  * projection_x_coordinate  (projection_x_coordinate) float64 5.58e+05 ... 5.82e+05\n",
      "    ensemble_member_id       (ensemble_member) |S27 ...\n",
      "    grid_latitude            (projection_y_coordinate, projection_x_coordinate) float64 ...\n",
      "    grid_longitude           (projection_y_coordinate, projection_x_coordinate) float64 ...\n",
      "  * time                     (time) object 1980-12-01 12:00:00 ... 2080-11-30 12:00:00\n",
      "    month_number             (time) int32 ...\n",
      "    year                     (time) int32 ...\n",
      "    yyyymmdd                 (time) |S64 ..., 'rls': <xarray.DataArray 'rls' (ensemble_member: 1, time: 36000, projection_y_coordinate: 3, projection_x_coordinate: 3)>\n",
      "[324000 values with dtype=float32]\n",
      "Coordinates:\n",
      "  * ensemble_member          (ensemble_member) int32 1\n",
      "  * projection_y_coordinate  (projection_y_coordinate) float64 1.98e+05 ... 2.22e+05\n",
      "  * projection_x_coordinate  (projection_x_coordinate) float64 5.58e+05 ... 5.82e+05\n",
      "    ensemble_member_id       (ensemble_member) |S27 ...\n",
      "    grid_latitude            (projection_y_coordinate, projection_x_coordinate) float64 ...\n",
      "    grid_longitude           (projection_y_coordinate, projection_x_coordinate) float64 ...\n",
      "  * time                     (time) object 1980-12-01 12:00:00 ... 2080-11-30 12:00:00\n",
      "    month_number             (time) int32 ...\n",
      "    year                     (time) int32 ...\n",
      "    yyyymmdd                 (time) |S64 ...\n",
      "Attributes:\n",
      "    standard_name:  surface_net_downward_longwave_flux\n",
      "    long_name:      Net Surface long wave flux\n",
      "    units:          W m-2\n",
      "    description:    Net Surface long wave flux\n",
      "    label_units:    W m-2\n",
      "    plot_label:     Net Surface long wave flux (W m-2)\n",
      "    cell_methods:   time: mean\n",
      "    grid_mapping:   transverse_mercator, 'rss': <xarray.DataArray 'rss' (ensemble_member: 1, time: 36000, projection_y_coordinate: 3, projection_x_coordinate: 3)>\n",
      "[324000 values with dtype=float32]\n",
      "Coordinates:\n",
      "  * ensemble_member          (ensemble_member) int32 1\n",
      "  * projection_y_coordinate  (projection_y_coordinate) float64 1.98e+05 ... 2.22e+05\n",
      "  * projection_x_coordinate  (projection_x_coordinate) float64 5.58e+05 ... 5.82e+05\n",
      "    ensemble_member_id       (ensemble_member) |S27 ...\n",
      "    grid_latitude            (projection_y_coordinate, projection_x_coordinate) float64 ...\n",
      "    grid_longitude           (projection_y_coordinate, projection_x_coordinate) float64 ...\n",
      "  * time                     (time) object 1980-12-01 12:00:00 ... 2080-11-30 12:00:00\n",
      "    month_number             (time) int32 ...\n",
      "    year                     (time) int32 ...\n",
      "    yyyymmdd                 (time) |S64 ...\n",
      "Attributes:\n",
      "    standard_name:  surface_net_downward_shortwave_flux\n",
      "    long_name:      Net Surface short wave flux\n",
      "    units:          W m-2\n",
      "    description:    Net Surface short wave flux\n",
      "    label_units:    W m-2\n",
      "    plot_label:     Net Surface short wave flux (W m-2)\n",
      "    cell_methods:   time: mean\n",
      "    grid_mapping:   transverse_mercator, 'sfcWind': <xarray.DataArray 'sfcWind' (ensemble_member: 1, time: 36000, projection_y_coordinate: 3, projection_x_coordinate: 3)>\n",
      "[324000 values with dtype=float32]\n",
      "Coordinates:\n",
      "  * ensemble_member          (ensemble_member) int32 1\n",
      "  * projection_y_coordinate  (projection_y_coordinate) float64 1.98e+05 ... 2.22e+05\n",
      "  * projection_x_coordinate  (projection_x_coordinate) float64 5.58e+05 ... 5.82e+05\n",
      "    ensemble_member_id       (ensemble_member) |S27 ...\n",
      "    grid_latitude            (projection_y_coordinate, projection_x_coordinate) float64 ...\n",
      "    grid_longitude           (projection_y_coordinate, projection_x_coordinate) float64 ...\n",
      "  * time                     (time) object 1980-12-01 12:00:00 ... 2080-11-30 12:00:00\n",
      "    month_number             (time) int32 ...\n",
      "    year                     (time) int32 ...\n",
      "    yyyymmdd                 (time) |S64 ...\n",
      "Attributes:\n",
      "    standard_name:  wind_speed\n",
      "    long_name:      Wind speed at 10m\n",
      "    units:          m s-1\n",
      "    description:    Wind speed\n",
      "    label_units:    m s-1\n",
      "    plot_label:     Wind speed at 10m (m s-1)\n",
      "    cell_methods:   time: mean\n",
      "    grid_mapping:   transverse_mercator, 'tas': <xarray.DataArray 'tas' (ensemble_member: 1, time: 36000, projection_y_coordinate: 3, projection_x_coordinate: 3)>\n",
      "array([[[[278.7567 , ..., 279.0067 ],\n",
      "         ...,\n",
      "         [278.42242, ..., 278.72122]],\n",
      "\n",
      "        ...,\n",
      "\n",
      "        [[281.89026, ..., 282.26703],\n",
      "         ...,\n",
      "         [281.3602 , ..., 281.595  ]]]], dtype=float32)\n",
      "Coordinates:\n",
      "  * ensemble_member          (ensemble_member) int32 1\n",
      "  * projection_y_coordinate  (projection_y_coordinate) float64 1.98e+05 ... 2.22e+05\n",
      "  * projection_x_coordinate  (projection_x_coordinate) float64 5.58e+05 ... 5.82e+05\n",
      "    ensemble_member_id       (ensemble_member) |S27 ...\n",
      "    grid_latitude            (projection_y_coordinate, projection_x_coordinate) float64 ...\n",
      "    grid_longitude           (projection_y_coordinate, projection_x_coordinate) float64 ...\n",
      "  * time                     (time) object 1980-12-01 12:00:00 ... 2080-11-30 12:00:00\n",
      "    month_number             (time) int32 ...\n",
      "    year                     (time) int32 ...\n",
      "    yyyymmdd                 (time) |S64 ...}\n"
     ]
    }
   ],
   "source": [
    "varlist = \"huss,psl,rls,rss,sfcWind,tas\".split(',')\n",
    "input_path_format = \"/home/users/nelerey/data/toydata_3x3/{var}_rcp85_land-rcm_uk_12km_01_day_19801201-20801130.nc\"\n",
    "output_path = \"/home/users/nelerey/data/toydata_3x3/pet_rcp85_land-rcm_uk_12km_01_day_19801201-20801130.nc\"\n",
    "\n",
    "# load data\n",
    "pathsdict = dict([[v, input_path_format.format(var=v)] for v in varlist])\n",
    "datadict = {}\n",
    "for key in pathsdict:\n",
    "    # if concat_dim:\n",
    "    #    datadict[key] = xr.open_mfdataset(pathsdict[key], concat_dim=concat_dim,\n",
    "    #                                      chunks={'projection_x_coordinate': 15, 'projection_y_coordinate': 15})\n",
    "    #else:\n",
    "    datadict[key] = xr.open_dataset(pathsdict[key])[key]\n",
    "# convert units where needed\n",
    "datadict['psl'] = datadict['psl'] * 100  # hPa to Pa\n",
    "datadict['tas'] = datadict['tas'] + 273.15  # degC to K\n",
    "print(\"Data loaded and units of psl and tas converted. \\ndatadict: \\n\", datadict)"
   ]
  },
  {
   "cell_type": "code",
   "execution_count": 71,
   "metadata": {},
   "outputs": [
    {
     "name": "stdout",
     "output_type": "stream",
     "text": [
      "Start calculating PE...\n",
      "calculating richards poly\n",
      "calculating saturated specific humidity\n",
      "calculating delta q_s\n",
      "calculating richards poly derivative\n",
      "shapes and sizes of variables:\n",
      "e_s: (1, 36000, 3, 3)\n",
      "q_s: (1, 36000, 3, 3)\n",
      "delta_qs: (1, 36000, 3, 3)\n",
      "A: (1, 36000, 3, 3)\n",
      "rho_air: (1, 36000, 3, 3)\n",
      "r_a: (1, 36000, 3, 3)\n",
      "denominator: (1, 36000, 3, 3)\n",
      "radiative_component: (1, 36000, 3, 3)\n",
      "aerodynamic_component: (1, 36000, 3, 3)\n",
      "PE calculated: \n",
      " <xarray.DataArray (ensemble_member: 1, time: 36000, projection_y_coordinate: 3, projection_x_coordinate: 3)>\n",
      "array([[[[0.436416, ..., 0.537454],\n",
      "         ...,\n",
      "         [0.380202, ..., 0.415912]],\n",
      "\n",
      "        ...,\n",
      "\n",
      "        [[0.144125, ..., 0.261731],\n",
      "         ...,\n",
      "         [0.188339, ..., 0.219347]]]])\n",
      "Coordinates:\n",
      "  * ensemble_member          (ensemble_member) int32 1\n",
      "  * projection_y_coordinate  (projection_y_coordinate) float64 1.98e+05 ... 2.22e+05\n",
      "  * projection_x_coordinate  (projection_x_coordinate) float64 5.58e+05 ... 5.82e+05\n",
      "    ensemble_member_id       (ensemble_member) |S27 ...\n",
      "    grid_latitude            (projection_y_coordinate, projection_x_coordinate) float64 ...\n",
      "    grid_longitude           (projection_y_coordinate, projection_x_coordinate) float64 ...\n",
      "  * time                     (time) object 1980-12-01 12:00:00 ... 2080-11-30 12:00:00\n",
      "    month_number             (time) int32 ...\n",
      "    year                     (time) int32 ...\n",
      "    yyyymmdd                 (time) |S64 ... \n",
      ", start preparing for export...\n"
     ]
    }
   ],
   "source": [
    "# calculate pet\n",
    "cst = constants()\n",
    "\n",
    "pet_values = calc_eto_ceh_xr(\n",
    "    t_a=datadict['tas'].values,\n",
    "    p_air=datadict['psl'].values,\n",
    "    netlongwavedown=datadict['rls'].values,\n",
    "    netshortwavedown=datadict['rss'].values,\n",
    "    u_10=datadict['sfcWind'].values,\n",
    "    q_a=datadict['huss'].values\n",
    ")\n",
    "pet = xr.DataArray(pet_values, datadict['tas'].coords, datadict['tas'].dims)\n",
    "print(\"PE calculated: \\n\", pet, \"\\n, start preparing for export...\")\n",
    "\n",
    "allow_neg=False\n",
    "if not allow_neg:\n",
    "    pet = pet.where(pet > 0., 0)  # pe is preserved where condition is true, \"other\" is applied where condition is false\n",
    "\n",
    "pet.name = \"pet\"  #EvApOtRaNsPiRaTiOn\n",
    "\n",
    "# bnds caused problems with bias correction before and we don't necessarily need it.\n",
    "# pet = pet.drop_dims('bnds')"
   ]
  },
  {
   "cell_type": "code",
   "execution_count": 72,
   "metadata": {},
   "outputs": [
    {
     "data": {
      "image/png": "[encoded data removed]",
      "text/plain": [
       "<Figure size 432x288 with 8 Axes>"
      ]
     },
     "metadata": {
      "needs_background": "light"
     },
     "output_type": "display_data"
    }
   ],
   "source": [
    "mean_seas = pet.groupby(\"time.season\").mean('time')\n",
    "f,ax = plt.subplots(2,2)\n",
    "for i in range(4):\n",
    "    mean_seas.isel(season=i).plot(ax=ax.flat[i])"
   ]
  },
  {
   "cell_type": "code",
   "execution_count": 231,
   "metadata": {},
   "outputs": [
    {
     "data": {
      "text/plain": [
       "<xarray.DataArray 'huss' (ensemble_member: 1, time: 36000, projection_y_coordinate: 3, projection_x_coordinate: 3)>\n",
       "array([[[[0.004827, ..., 0.00487 ],\n",
       "         ...,\n",
       "         [0.004914, ..., 0.004945]],\n",
       "\n",
       "        ...,\n",
       "\n",
       "        [[0.005735, ..., 0.005816],\n",
       "         ...,\n",
       "         [0.005649, ..., 0.005677]]]], dtype=float32)\n",
       "Coordinates:\n",
       "  * ensemble_member          (ensemble_member) int32 1\n",
       "  * projection_y_coordinate  (projection_y_coordinate) float64 1.98e+05 ... 2.22e+05\n",
       "  * projection_x_coordinate  (projection_x_coordinate) float64 5.58e+05 ... 5.82e+05\n",
       "    ensemble_member_id       (ensemble_member) |S27 ...\n",
       "    grid_latitude            (projection_y_coordinate, projection_x_coordinate) float64 ...\n",
       "    grid_longitude           (projection_y_coordinate, projection_x_coordinate) float64 ...\n",
       "  * time                     (time) object 1980-12-01 12:00:00 ... 2080-11-30 12:00:00\n",
       "    month_number             (time) int32 ...\n",
       "    year                     (time) int32 ...\n",
       "    yyyymmdd                 (time) |S64 ...\n",
       "Attributes:\n",
       "    standard_name:  specific_humidity\n",
       "    long_name:      Specific humidity\n",
       "    units:          1\n",
       "    description:    Specific humidity\n",
       "    label_units:    1\n",
       "    plot_label:     Specific humidity at 1.5m (1)\n",
       "    cell_methods:   time: mean\n",
       "    grid_mapping:   transverse_mercator"
      ]
     },
     "execution_count": 231,
     "metadata": {},
     "output_type": "execute_result"
    }
   ],
   "source": [
    "datadict['huss']"
   ]
  },
  {
   "cell_type": "code",
   "execution_count": null,
   "metadata": {},
   "outputs": [],
   "source": [
    "# prepare for export\n",
    "attributes = {\n",
    "    'creation_script': sys.argv[0] + \" (N. Reyniers)\",\n",
    "    'creation_time': datetime.now().strftime(\"%d-%m-%Y %H:%M\"),\n",
    "    'standard_name': 'water_reference_evaporation_amount',\n",
    "    'long_name': 'FAO56/Robinson reference evaporation amount',\n",
    "    'units': 'kg m-2',\n",
    "    'label_units': 'kg m-2',\n",
    "    'plot_label': 'ET0 (kg m-2)',\n",
    "    'description': 'Reference crop potential evaporation (kg m-2) calculated from rls, rss, psl, huss, tas, sfcWind based on Robinson et al. (2017) to match CHESS-PE',\n",
    "    'units_equivalent': 'mm',\n",
    "    'PE_calculation_method': 'Penman-Monteith as implemented in Robinson et al. (2017), using the FAO56 reference crop (Allen et al., 1998)',\n",
    "    'references': '[1] Robinson, E. L., et al. \"Trends in atmospheric evaporative demand in Great Britain using high-resolution meteorological data.\" Hydrology and Earth System Sciences 21.2 (2017): 1189-1224. [2] Allen, R. G., et al. \\\"Crop evapotranspiration-Guidelines for computing crop water requirements-FAO Irrigation and drainage paper 56.\\\" Fao, Rome 300.9 (1998): D05109.',\n",
    "    'input_variable_names': ', '.join(list(pathsdict.keys()))\n",
    "}\n",
    "input_attributes = dict(\n",
    "    [['input_{}'.format(vn), pathsdict[vn]] for vn in list(pathsdict.keys())]\n",
    ")\n",
    "pet = pet.assign_attrs(attributes)\n",
    "pet = pet.assign_attrs(input_attributes)\n",
    "pet.to_netcdf(output_path, engine='netcdf4', format='NETCDF4',\n",
    "              encoding={\"pet\": {\"dtype\": \"float32\"}})\n",
    "print(\"Succesfully exported.\")"
   ]
  },
  {
   "cell_type": "markdown",
   "metadata": {},
   "source": [
    "Compare to CEH script:"
   ]
  },
  {
   "cell_type": "code",
   "execution_count": 166,
   "metadata": {},
   "outputs": [],
   "source": [
    "tair = datadict['tas']\n",
    "tref = 1.0-(cst.t_steam/tair)\n",
    "sumat = sum([cst.a_factors[i]*(tref**(i+1)) for i in range(4)])"
   ]
  },
  {
   "cell_type": "code",
   "execution_count": 167,
   "metadata": {},
   "outputs": [
    {
     "name": "stdout",
     "output_type": "stream",
     "text": [
      "calculating richards poly\n",
      "-0.1299\n",
      "-0.6445\n",
      "-1.976\n",
      "13.3185\n",
      "0.0\n",
      "4\n"
     ]
    }
   ],
   "source": [
    "richpol = richards_poly(datadict['tas'])"
   ]
  },
  {
   "cell_type": "code",
   "execution_count": 174,
   "metadata": {},
   "outputs": [
    {
     "name": "stdout",
     "output_type": "stream",
     "text": [
      "calculating richards poly\n",
      "-0.1299\n",
      "-0.6445\n",
      "-1.976\n",
      "13.3185\n",
      "0.0\n",
      "4\n",
      "calculating saturated specific humidity\n",
      "calculating delta q_s\n",
      "calculating richards poly derivative\n",
      "-0.5196\n",
      "-1.9335\n",
      "-3.952\n",
      "13.3185\n",
      "3\n"
     ]
    }
   ],
   "source": [
    "t_a = datadict['tas']\n",
    "p_air = datadict['psl']\n",
    "\n",
    "e_s = cst.p_steam * np.exp(richards_poly(t_a))\n",
    "q_s = calc_sat_spechum(e_s, p_air) \n",
    "delta = calc_delta_qs(e_s, t_a, q_s, p_air)\n"
   ]
  },
  {
   "cell_type": "code",
   "execution_count": 178,
   "metadata": {},
   "outputs": [],
   "source": [
    "def tref(tair):\n",
    "    # Tr = 1 - Ts/Ta\n",
    "    tref = 1.0-(cst.t_steam/tair)\n",
    "    return tref\n",
    "\n",
    "\n",
    "###############################################################################\n",
    "# Vapour pressure at saturation esat\n",
    "###############################################################################\n",
    "def esat(tref):\n",
    "    sumat = sum([cst.a_factors[i]*(tref**(i+1)) for i in range(4)])\n",
    "    esat = cst.p_steam*np.exp(sumat)\n",
    "    return esat\n",
    "\n",
    "\n",
    "###############################################################################\n",
    "# Specific humidity at saturation Qsat\n",
    "###############################################################################\n",
    "def qsat(tref, psurf):\n",
    "    es = esat(tref)\n",
    "    qsat = cst.epsilon * es/(psurf-((1.0-cst.epsilon)*es))\n",
    "    return qsat\n",
    "\n",
    "\n",
    "def calc_Del(tair, psurf):\n",
    "    tr = tref(tair)\n",
    "    es = esat(tr)\n",
    "    qs = qsat(tr, psurf)\n",
    "    sumat_deriv = sum([cst.a_factors[i]*(i+1)*(tr**i) for i in range(4)])\n",
    "    Del = psurf * cst.t_steam * sumat_deriv * qs / \\\n",
    "        (tair * tair * (psurf - ((1.0 - cst.epsilon) * es)))\n",
    "    return Del\n",
    "Del = calc_Del(datadict['tas'], datadict['psl'])"
   ]
  },
  {
   "cell_type": "markdown",
   "metadata": {},
   "source": [
    "Check with the fao version\n"
   ]
  },
  {
   "cell_type": "code",
   "execution_count": 210,
   "metadata": {},
   "outputs": [],
   "source": [
    "fao56 = xr.open_dataset(\"/home/users/nelerey/data/toydata_3x3/\"\\\n",
    "                        \"evpot-fao56_rcp85_land-rcm_uk_12km_01_day_19801201-20801130.nc\")"
   ]
  },
  {
   "cell_type": "code",
   "execution_count": 211,
   "metadata": {},
   "outputs": [
    {
     "data": {
      "image/png": "[encoded data removed]",
      "text/plain": [
       "<Figure size 432x288 with 8 Axes>"
      ]
     },
     "metadata": {
      "needs_background": "light"
     },
     "output_type": "display_data"
    }
   ],
   "source": [
    "mean_seas_fao = fao56['evpot-fao56'].isel(bnds=0).groupby(\"time.season\").mean('time')\n",
    "f,ax = plt.subplots(2,2)\n",
    "for i in range(4):\n",
    "    mean_seas_fao.isel(season=i).plot(ax=ax.flat[i])"
   ]
  },
  {
   "cell_type": "code",
   "execution_count": 222,
   "metadata": {},
   "outputs": [
    {
     "data": {
      "text/plain": [
       "<xarray.DataArray 'evpot-fao56' (ensemble_member: 1, time: 36000, projection_y_coordinate: 3, projection_x_coordinate: 3, bnds: 2)>\n",
       "array([[[[[0.57, 0.57],\n",
       "          ...,\n",
       "          [0.68, 0.68]],\n",
       "\n",
       "         ...,\n",
       "\n",
       "         [[0.51, 0.51],\n",
       "          ...,\n",
       "          [0.55, 0.55]]],\n",
       "\n",
       "\n",
       "        ...,\n",
       "\n",
       "\n",
       "        [[[0.33, 0.33],\n",
       "          ...,\n",
       "          [0.45, 0.45]],\n",
       "\n",
       "         ...,\n",
       "\n",
       "         [[0.38, 0.38],\n",
       "          ...,\n",
       "          [0.4 , 0.4 ]]]]])\n",
       "Coordinates:\n",
       "  * ensemble_member          (ensemble_member) int32 1\n",
       "  * projection_y_coordinate  (projection_y_coordinate) float64 1.98e+05 ... 2.22e+05\n",
       "  * projection_x_coordinate  (projection_x_coordinate) float64 5.58e+05 ... 5.82e+05\n",
       "    ensemble_member_id       (ensemble_member) |S27 b'HadREM3-GA705-r001i1p00000 '\n",
       "    grid_latitude            (projection_y_coordinate, projection_x_coordinate) float64 2.214 ... 2.364\n",
       "    grid_longitude           (projection_y_coordinate, projection_x_coordinate) float64 -10.89 ... -10.62\n",
       "  * time                     (time) object 1980-12-01 12:00:00 ... 2080-11-30 12:00:00\n",
       "    month_number             (time) int32 12 12 12 12 12 12 ... 11 11 11 11 11\n",
       "    year                     (time) int32 1980 1980 1980 1980 ... 2080 2080 2080\n",
       "    yyyymmdd                 (time) |S64 b'19801201                                                        ' ... b'20801130                                                        '\n",
       "Dimensions without coordinates: bnds"
      ]
     },
     "execution_count": 222,
     "metadata": {},
     "output_type": "execute_result"
    }
   ],
   "source": [
    "fao56['evpot-fao56']"
   ]
  },
  {
   "cell_type": "markdown",
   "metadata": {},
   "source": [
    "# Check result with rosie version"
   ]
  },
  {
   "cell_type": "code",
   "execution_count": 5,
   "metadata": {},
   "outputs": [],
   "source": [
    "pet_new = xr.open_dataset(\"/home/users/nelerey/data/PE/ETo-chess/pet_rcp85_land-rcm_uk_12km_01_day_19801201-19901130.nc\")\n",
    "pet_rosie = xr.open_dataset(\"/home/users/nelerey/data/PE/rosie-chess/pet_UKCP18_ensemble01_changevarname.nc\")"
   ]
  },
  {
   "cell_type": "code",
   "execution_count": 18,
   "metadata": {},
   "outputs": [
    {
     "data": {
      "text/plain": [
       "<xarray.Dataset>\n",
       "Dimensions:  (time: 35640, x: 82, y: 112)\n",
       "Coordinates:\n",
       "  * time     (time) float64 0.0 0.0 0.0 0.0 0.0 0.0 ... 0.0 0.0 0.0 0.0 0.0 0.0\n",
       "  * x        (x) float64 -2.1e+05 -1.98e+05 -1.86e+05 ... 7.5e+05 7.62e+05\n",
       "  * y        (y) float64 -1.02e+05 -9e+04 -7.8e+04 ... 1.218e+06 1.23e+06\n",
       "Data variables:\n",
       "    var      (time, y, x) float64 ...\n",
       "Attributes:\n",
       "    CDI:          Climate Data Interface version 1.9.8 (https://mpimet.mpg.de...\n",
       "    Conventions:  CF-1.6\n",
       "    history:      Fri Oct 30 11:31:25 2020: cdo chname,time,ymd pet_UKCP18_en...\n",
       "    CDO:          Climate Data Operators version 1.9.8 (https://mpimet.mpg.de..."
      ]
     },
     "execution_count": 18,
     "metadata": {},
     "output_type": "execute_result"
    }
   ],
   "source": []
  },
  {
   "cell_type": "code",
   "execution_count": 74,
   "metadata": {},
   "outputs": [
    {
     "name": "stdout",
     "output_type": "stream",
     "text": [
      "(3570, 112, 82) (3570, 112, 82)\n"
     ]
    }
   ],
   "source": [
    "pet_rosie_val = pet_rosie['var'][:3570].values\n",
    "pet_new_val = pet_new[\"pet\"][0, 30:].values\n",
    "print(pet_new_val.shape, pet_rosie_val.shape)"
   ]
  },
  {
   "cell_type": "code",
   "execution_count": 75,
   "metadata": {},
   "outputs": [],
   "source": [
    "diff = pet_rosie_val - pet_new_val\n",
    "tempavg = np.mean(diff, axis=0)"
   ]
  },
  {
   "cell_type": "code",
   "execution_count": 76,
   "metadata": {},
   "outputs": [
    {
     "data": {
      "text/plain": [
       "<matplotlib.colorbar.Colorbar at 0x7f775e501828>"
      ]
     },
     "execution_count": 76,
     "metadata": {},
     "output_type": "execute_result"
    },
    {
     "data": {
      "image/png": "[encoded data removed]",
      "text/plain": [
       "<Figure size 432x288 with 2 Axes>"
      ]
     },
     "metadata": {
      "needs_background": "light"
     },
     "output_type": "display_data"
    }
   ],
   "source": [
    "im= plt.pcolormesh(tempavg)\n",
    "plt.colorbar(im)"
   ]
  },
  {
   "cell_type": "code",
   "execution_count": 77,
   "metadata": {},
   "outputs": [],
   "source": [
    "# make use of 30 day monthys to calculate monthly averages:\n",
    "monthlydifsdict = {}\n",
    "for t in range(10):\n",
    "    for m in range(12):\n",
    "        if m not in monthlydifsdict.keys():\n",
    "            monthlydifsdict[m] = []\n",
    "        start = t*12*30 + m*30\n",
    "        stop = t*12*30 + (m+1)*30\n",
    "        monthlydifsdict[m].append(diff[start:stop])\n",
    "\n",
    "monthlydifsdict = {m: np.concatenate(arr) for m,arr in monthlydifsdict.items()}\n",
    "monthlymeandifsdict = {m: np.mean(arr, axis=0) for m,arr in monthlydifsdict.items()}"
   ]
  },
  {
   "cell_type": "code",
   "execution_count": 78,
   "metadata": {},
   "outputs": [
    {
     "data": {
      "text/plain": [
       "(112, 82)"
      ]
     },
     "execution_count": 78,
     "metadata": {},
     "output_type": "execute_result"
    }
   ],
   "source": [
    "monthlymeandifsdict[10].shape"
   ]
  },
  {
   "cell_type": "code",
   "execution_count": 79,
   "metadata": {},
   "outputs": [],
   "source": [
    "# plot monthly averages"
   ]
  },
  {
   "cell_type": "code",
   "execution_count": 80,
   "metadata": {},
   "outputs": [
    {
     "data": {
      "text/plain": [
       "<matplotlib.colorbar.Colorbar at 0x7f775e26c7b8>"
      ]
     },
     "execution_count": 80,
     "metadata": {},
     "output_type": "execute_result"
    },
    {
     "data": {
      "image/png": "[encoded data removed]",
      "text/plain": [
       "<Figure size 576x864 with 13 Axes>"
      ]
     },
     "metadata": {
      "needs_background": "light"
     },
     "output_type": "display_data"
    }
   ],
   "source": [
    "f,ax = plt.subplots(3,4, figsize=(8,12))\n",
    "for i in range(12): \n",
    "    im = ax.flat[i].pcolormesh(monthlymeandifsdict[i], vmin = -0.75, vmax=0.75, cmap=\"RdBu_r\")\n",
    "plt.colorbar(im)"
   ]
  },
  {
   "cell_type": "code",
   "execution_count": null,
   "metadata": {},
   "outputs": [],
   "source": []
  }
 ],
 "metadata": {
  "kernelspec": {
   "display_name": "Python 3 + Jaspy",
   "language": "python",
   "name": "jaspy"
  },
  "language_info": {
   "codemirror_mode": {
    "name": "ipython",
    "version": 3
   },
   "file_extension": ".py",
   "mimetype": "text/x-python",
   "name": "python",
   "nbconvert_exporter": "python",
   "pygments_lexer": "ipython3",
   "version": "3.7.1"
  }
 },
 "nbformat": 4,
 "nbformat_minor": 4
}
