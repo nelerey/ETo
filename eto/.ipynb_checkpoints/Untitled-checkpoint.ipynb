{
 "cells": [
  {
   "cell_type": "code",
   "execution_count": 3,
   "metadata": {},
   "outputs": [],
   "source": [
    "import numpy as np\n",
    "import xarray as xr"
   ]
  },
  {
   "cell_type": "code",
   "execution_count": 21,
   "metadata": {},
   "outputs": [],
   "source": [
    "class constants:\n",
    "\n",
    "    def __init__(self):\n",
    "        self.t_steam = 373.15  # steam point temperature in kelvin!\n",
    "        self.p_steam = 101325  # steam point pressure in Pa\n",
    "        self.a_factors = [13.3185, -1.9760, -0.6445, -0.1299]\n",
    "        self.epsilon = 0.622  # robinson 2017 eq 3; gill 1982\n",
    "        self.l = 2.5 * 10 ** 6  # J kg -1; latent heat of evaporation of water\n",
    "        self.c_p = 1010  # J kg-1 K-1  # specific heat capacity of air\n",
    "        self.psychrometric = 0.004 # K-1; psychrometric constant\n",
    "        # everything is FAO56-grass:\n",
    "        self.r_s = 70.0  # s m-1  stomatal resistance\n",
    "        self.alpha = 0.23\n",
    "        self.emissivity = 0.92\n",
    "        self.r = 287.05  # J kg-1 K-1, gas consstant of air\n",
    "        self.t_d = 60*60*24 # seconds day-1: lengthof a day in seconds\n",
    "\n",
    "def richards_poly(t_a, derive=False):\n",
    "    \"\"\"\n",
    "    Computes the polynomial that forms the exponent in eq 5 Robinson et al 2017 (richards approximation of q_s=f(t_a), 1971). if derive=True, it will compute the first derivative of this term to t_a instead\n",
    "    There is a bug in this function :( numpy axis etc wrong\n",
    "\n",
    "\n",
    "    Parameters\n",
    "    ----------\n",
    "    t_a: np.ndarray of air temperature values in Kelvin\n",
    "\n",
    "    Return\n",
    "    ------\n",
    "    a numpy.ndarray same shape as t_a which is the exponent for eq5\n",
    "    \"\"\"\n",
    "\n",
    "    if derive:\n",
    "        terms = [(i+1) * ai * (1 - cst.t_steam/t_a) ** i for i, ai in enumerate(cst.a_factors)]\n",
    "        print(\"terms[0]: \", terms[0].shape, \"\\n\", terms[0])\n",
    "        return np.sum(terms, axis=0) * cst.t_steam / (t_a ** 2)\n",
    "    else:\n",
    "        terms = [ai * (1 - cst.t_steam/t_a) ** (i+1) for i, ai in enumerate(cst.a_factors)]\n",
    "        print(\"terms[0]: \", terms[0].shape, \"\\n\", terms[0])\n",
    "        return np.sum(terms, axis=0)"
   ]
  },
  {
   "cell_type": "code",
   "execution_count": 11,
   "metadata": {},
   "outputs": [],
   "source": [
    "path = (\"/badc/ukcp18/data/land-rcm/uk/12km/rcp85/01/tas/day/\"\n",
    " \"latest/tas_rcp85_land-rcm_uk_12km_01_day_19801201-19901130.nc\")"
   ]
  },
  {
   "cell_type": "code",
   "execution_count": 12,
   "metadata": {},
   "outputs": [],
   "source": [
    "tas = xr.open_dataset(path)['tas']"
   ]
  },
  {
   "cell_type": "code",
   "execution_count": 22,
   "metadata": {},
   "outputs": [],
   "source": [
    "cst = constants()"
   ]
  },
  {
   "cell_type": "code",
   "execution_count": null,
   "metadata": {},
   "outputs": [],
   "source": [
    "richards_poly(tas).shape"
   ]
  },
  {
   "cell_type": "code",
   "execution_count": null,
   "metadata": {},
   "outputs": [],
   "source": [
    "tas.shape"
   ]
  },
  {
   "cell_type": "code",
   "execution_count": 24,
   "metadata": {},
   "outputs": [
    {
     "data": {
      "text/plain": [
       "[13.3185, -1.976, -0.6445, -0.1299]"
      ]
     },
     "execution_count": 24,
     "metadata": {},
     "output_type": "execute_result"
    }
   ],
   "source": [
    "cst.a_factors"
   ]
  },
  {
   "cell_type": "code",
   "execution_count": null,
   "metadata": {},
   "outputs": [],
   "source": []
  }
 ],
 "metadata": {
  "kernelspec": {
   "display_name": "Python 3 + Jaspy",
   "language": "python",
   "name": "jaspy"
  },
  "language_info": {
   "codemirror_mode": {
    "name": "ipython",
    "version": 3
   },
   "file_extension": ".py",
   "mimetype": "text/x-python",
   "name": "python",
   "nbconvert_exporter": "python",
   "pygments_lexer": "ipython3",
   "version": "3.7.1"
  }
 },
 "nbformat": 4,
 "nbformat_minor": 4
}
